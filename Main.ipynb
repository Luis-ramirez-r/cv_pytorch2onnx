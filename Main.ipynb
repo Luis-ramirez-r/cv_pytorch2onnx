{
 "cells": [
  {
   "cell_type": "code",
   "execution_count": 1,
   "metadata": {},
   "outputs": [
    {
     "name": "stdout",
     "output_type": "stream",
     "text": [
      "Requirement already satisfied: onnx in c:\\users\\luisr\\anaconda3\\lib\\site-packages (1.10.1)\n",
      "Requirement already satisfied: protobuf in c:\\users\\luisr\\appdata\\roaming\\python\\python38\\site-packages (from onnx) (3.20.0)\n",
      "Requirement already satisfied: numpy>=1.16.6 in c:\\users\\luisr\\anaconda3\\lib\\site-packages (from onnx) (1.19.5)\n",
      "Requirement already satisfied: six in c:\\users\\luisr\\anaconda3\\lib\\site-packages (from onnx) (1.15.0)\n",
      "Requirement already satisfied: typing-extensions>=3.6.2.1 in c:\\users\\luisr\\anaconda3\\lib\\site-packages (from onnx) (3.7.4.3)\n"
     ]
    },
    {
     "name": "stderr",
     "output_type": "stream",
     "text": [
      "WARNING: You are using pip version 21.3.1; however, version 22.2 is available.\n",
      "You should consider upgrading via the 'c:\\users\\luisr\\anaconda3\\python.exe -m pip install --upgrade pip' command.\n"
     ]
    },
    {
     "name": "stdout",
     "output_type": "stream",
     "text": [
      "Requirement already satisfied: onnxruntime-gpu in c:\\users\\luisr\\anaconda3\\lib\\site-packages (1.9.0)\n",
      "Requirement already satisfied: flatbuffers in c:\\users\\luisr\\appdata\\roaming\\python\\python38\\site-packages (from onnxruntime-gpu) (2.0)\n",
      "Requirement already satisfied: numpy>=1.16.6 in c:\\users\\luisr\\anaconda3\\lib\\site-packages (from onnxruntime-gpu) (1.19.5)\n",
      "Requirement already satisfied: protobuf in c:\\users\\luisr\\appdata\\roaming\\python\\python38\\site-packages (from onnxruntime-gpu) (3.20.0)\n"
     ]
    },
    {
     "name": "stderr",
     "output_type": "stream",
     "text": [
      "WARNING: You are using pip version 21.3.1; however, version 22.2 is available.\n",
      "You should consider upgrading via the 'c:\\users\\luisr\\anaconda3\\python.exe -m pip install --upgrade pip' command.\n"
     ]
    }
   ],
   "source": [
    "!pip install onnx\n",
    "!pip install onnxruntime-gpu\n"
   ]
  },
  {
   "cell_type": "code",
   "execution_count": null,
   "metadata": {},
   "outputs": [],
   "source": [
    "!git clone https://github.com/Luis-ramirez-r/cv-onnx.git"
   ]
  },
  {
   "cell_type": "code",
   "execution_count": null,
   "metadata": {},
   "outputs": [],
   "source": [
    "!python '1_pytorch_model_test.py' \n"
   ]
  },
  {
   "cell_type": "code",
   "execution_count": null,
   "metadata": {},
   "outputs": [],
   "source": [
    "!python '2_export_model.py' "
   ]
  },
  {
   "cell_type": "code",
   "execution_count": null,
   "metadata": {},
   "outputs": [],
   "source": [
    "!python '3_onnx_model_ogpipeline.py' "
   ]
  },
  {
   "cell_type": "code",
   "execution_count": null,
   "metadata": {},
   "outputs": [],
   "source": [
    "!python '4_onnx_new_pipeline.py' "
   ]
  }
 ],
 "metadata": {
  "kernelspec": {
   "display_name": "Python 3.8.8",
   "language": "python",
   "name": "python3"
  },
  "language_info": {
   "codemirror_mode": {
    "name": "ipython",
    "version": 3
   },
   "file_extension": ".py",
   "mimetype": "text/x-python",
   "name": "python",
   "nbconvert_exporter": "python",
   "pygments_lexer": "ipython3",
   "version": "3.8.8"
  },
  "orig_nbformat": 4,
  "vscode": {
   "interpreter": {
    "hash": "dab08e57c9b482ea93630f4417c3a71920aeb2ff494e77a9f35c29d89c2c340b"
   }
  }
 },
 "nbformat": 4,
 "nbformat_minor": 2
}
